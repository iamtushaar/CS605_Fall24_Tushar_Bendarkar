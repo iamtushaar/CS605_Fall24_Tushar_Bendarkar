{
 "cells": [
  {
   "cell_type": "code",
   "execution_count": null,
   "id": "d19e7fb0-1328-446a-a81c-32a3be510d4f",
   "metadata": {},
   "outputs": [
    {
     "name": "stdout",
     "output_type": "stream",
     "text": [
      "Welcome to the Simple Calculator!\n"
     ]
    },
    {
     "name": "stdin",
     "output_type": "stream",
     "text": [
      "Enter the first number:  -10\n",
      "Enter the second number:  -5\n"
     ]
    },
    {
     "name": "stdout",
     "output_type": "stream",
     "text": [
      "Select an operation:\n",
      "1. Addition\n",
      "2. Subtraction\n",
      "3. Multiplication\n",
      "4. Division\n",
      "5. Modulo\n"
     ]
    },
    {
     "name": "stdin",
     "output_type": "stream",
     "text": [
      "Enter the operation number between 1 to 5:  2\n"
     ]
    },
    {
     "name": "stdout",
     "output_type": "stream",
     "text": [
      "Result: -10.0 - -5.0 = -5.0\n"
     ]
    },
    {
     "name": "stdin",
     "output_type": "stream",
     "text": [
      "Do you want to perform another calculation? (yes/no):  yes\n",
      "Enter the first number:  10\n",
      "Enter the second number:  -2\n"
     ]
    },
    {
     "name": "stdout",
     "output_type": "stream",
     "text": [
      "Select an operation:\n",
      "1. Addition\n",
      "2. Subtraction\n",
      "3. Multiplication\n",
      "4. Division\n",
      "5. Modulo\n"
     ]
    },
    {
     "name": "stdin",
     "output_type": "stream",
     "text": [
      "Enter the operation number between 1 to 5:  4\n"
     ]
    },
    {
     "name": "stdout",
     "output_type": "stream",
     "text": [
      "Result: 10.0 / -2.0 = -5.0\n"
     ]
    }
   ],
   "source": [
    "#Assignment 1: Simple Calculator\n",
    "\n",
    "#Functions to perform basic Arithmetic operations\n",
    "def add(a,b):\n",
    "    return a + b\n",
    "\n",
    "def subtract(a,b):\n",
    "    return a - b\n",
    "\n",
    "def multiply(a,b):\n",
    "    return a * b\n",
    "\n",
    "def divide(a,b):\n",
    "    if b == 0:\n",
    "        return \"Error: Oops! You have entered the wrong number. Division by zero is not allowed.\"\n",
    "    else:\n",
    "        return a / b\n",
    "\n",
    "def modulo(a,b):\n",
    "    return a % b\n",
    "\n",
    "#Function to check if user enters a valid number \n",
    "def get_number(prompt):\n",
    "    while True:\n",
    "        try:\n",
    "            return float(input(prompt))\n",
    "        except ValueError:\n",
    "            print(\"Invalid input. Please enter a valid number.\")\n",
    "\n",
    "#Function to get an operation from user\n",
    "def get_operation():\n",
    "    while True:\n",
    "        operation = input(\"Enter the operation number between 1 to 5: \")\n",
    "        if operation in ['1', '2', '3', '4','5']:\n",
    "            return operation\n",
    "        else:\n",
    "            print(\"Invalid input. Please select a valid operation number between 1 to 5.\")\n",
    "            \n",
    "#Main Function\n",
    "def simple_calculator():\n",
    "    print(\"Welcome to the Simple Calculator!\")\n",
    "    \n",
    "    while True:\n",
    "        number1 = get_number(\"Enter the first number: \")\n",
    "        number2 = get_number(\"Enter the second number: \")\n",
    "        \n",
    "        print(\"Select an operation:\")\n",
    "        print(\"1. Addition\")\n",
    "        print(\"2. Subtraction\")\n",
    "        print(\"3. Multiplication\")\n",
    "        print(\"4. Division\")\n",
    "        print(\"5. Modulo\")\n",
    "        \n",
    "        operation = get_operation()\n",
    "        \n",
    "        if operation == '1':\n",
    "            result = add(number1, number2)\n",
    "            operator = '+'\n",
    "        elif operation == '2':\n",
    "            result = subtract(number1, number2)\n",
    "            operator = '-'\n",
    "        elif operation == '3':\n",
    "            result = multiply(number1, number2)\n",
    "            operator = '*'\n",
    "        elif operation == '4':\n",
    "            result = divide(number1, number2)\n",
    "            operator = '/'\n",
    "        elif operation == '5':\n",
    "            result = modulo(number1, number2)\n",
    "            operator = '%'\n",
    "            \n",
    "        print(f\"Result: {number1} {operator} {number2} = {result}\")\n",
    "        \n",
    "        next_calculation = input(\"Do you want to perform another calculation? (yes/no): \")\n",
    "        if next_calculation != 'yes':\n",
    "            print(\"Goodbye!\")\n",
    "            break\n",
    "\n",
    "# Run the calculator\n",
    "simple_calculator()\n"
   ]
  }
 ],
 "metadata": {
  "kernelspec": {
   "display_name": "Python 3 (ipykernel)",
   "language": "python",
   "name": "python3"
  },
  "language_info": {
   "codemirror_mode": {
    "name": "ipython",
    "version": 3
   },
   "file_extension": ".py",
   "mimetype": "text/x-python",
   "name": "python",
   "nbconvert_exporter": "python",
   "pygments_lexer": "ipython3",
   "version": "3.12.4"
  }
 },
 "nbformat": 4,
 "nbformat_minor": 5
}
